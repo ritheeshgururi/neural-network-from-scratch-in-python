{
 "cells": [
  {
   "cell_type": "markdown",
   "metadata": {
    "colab": {
     "base_uri": "https://localhost:8080/",
     "height": 53
    },
    "executionInfo": {
     "elapsed": 12,
     "status": "ok",
     "timestamp": 1713347419828,
     "user": {
      "displayName": "Ritheesh Gururi",
      "userId": "06714265242114759156"
     },
     "user_tz": -330
    },
    "id": "KC2ssyLtV42v",
    "outputId": "6561e52b-793b-4267-9793-8ed848e9a760"
   },
   "source": [
    "#notes\n",
    "'''\n",
    " - learning rate of 0.01 is causing vanishing gradients and generaitng very low accuracy\n",
    " - using more than 10 epochs is causing overfitting\n",
    " - increasing nodes in the hidden layer is causing very large increase of training time\n",
    " - 92 percent accuracy was achieved in one of the runs\n",
    "'''"
   ]
  },
  {
   "cell_type": "code",
   "execution_count": 2,
   "metadata": {
    "colab": {
     "base_uri": "https://localhost:8080/"
    },
    "executionInfo": {
     "elapsed": 26107,
     "status": "ok",
     "timestamp": 1713347446913,
     "user": {
      "displayName": "Ritheesh Gururi",
      "userId": "06714265242114759156"
     },
     "user_tz": -330
    },
    "id": "vAFSX_ZgEHJJ",
    "outputId": "56cec978-eb77-4c21-aaa4-1d6e4b87fa5e"
   },
   "outputs": [
    {
     "name": "stdout",
     "output_type": "stream",
     "text": [
      "Mounted at /content/drive\n"
     ]
    }
   ],
   "source": [
    "from google.colab import drive\n",
    "drive.mount('/content/drive')"
   ]
  },
  {
   "cell_type": "code",
   "execution_count": 3,
   "metadata": {
    "executionInfo": {
     "elapsed": 13,
     "status": "ok",
     "timestamp": 1713347446914,
     "user": {
      "displayName": "Ritheesh Gururi",
      "userId": "06714265242114759156"
     },
     "user_tz": -330
    },
    "id": "S_kajfDyTwsO"
   },
   "outputs": [],
   "source": [
    "import numpy as np\n",
    "import time\n",
    "import matplotlib.pyplot as plt\n",
    "%matplotlib inline"
   ]
  },
  {
   "cell_type": "code",
   "execution_count": 4,
   "metadata": {
    "executionInfo": {
     "elapsed": 9,
     "status": "ok",
     "timestamp": 1713347446915,
     "user": {
      "displayName": "Ritheesh Gururi",
      "userId": "06714265242114759156"
     },
     "user_tz": -330
    },
    "id": "GTD5bVbSEYA8"
   },
   "outputs": [],
   "source": [
    "#function to convert ubyte files to csv files\n",
    "def convert(imgf, labelf, outf, n):\n",
    "    f = open(imgf, \"rb\")\n",
    "    o = open(outf, \"w\")\n",
    "    l = open(labelf, \"rb\")\n",
    "\n",
    "    f.read(16)\n",
    "    l.read(8)\n",
    "    images = []\n",
    "\n",
    "    for i in range(n):\n",
    "        image = [ord(l.read(1))]\n",
    "        for j in range(28*28):\n",
    "            image.append(ord(f.read(1)))\n",
    "        images.append(image)\n",
    "\n",
    "    for image in images:\n",
    "        o.write(\",\".join(str(pix) for pix in image)+\"\\n\")\n",
    "    f.close()\n",
    "    o.close()\n",
    "    l.close()"
   ]
  },
  {
   "cell_type": "code",
   "execution_count": null,
   "metadata": {
    "executionInfo": {
     "elapsed": 26416,
     "status": "ok",
     "timestamp": 1713347608523,
     "user": {
      "displayName": "Ritheesh Gururi",
      "userId": "06714265242114759156"
     },
     "user_tz": -330
    },
    "id": "UJBRF-zJHD-7"
   },
   "outputs": [],
   "source": [
    "#converting ubyte training and testing files to csv files\n",
    "convert(\"/content/drive/MyDrive/NewData/train-images.idx3-ubyte\", \"/content/drive/MyDrive/NewData/train-labels.idx1-ubyte\",\n",
    "        \"/content/drive/MyDrive/NewData/mnist_train.csv\", 60000)\n",
    "convert(\"/content/drive/MyDrive/NewData/t10k-images.idx3-ubyte\", \"/content/drive/MyDrive/NewData/t10k-labels.idx1-ubyte\",\n",
    "        \"/content/drive/MyDrive/NewData/mnist_test.csv\", 10000)"
   ]
  },
  {
   "cell_type": "code",
   "execution_count": null,
   "metadata": {
    "executionInfo": {
     "elapsed": 787,
     "status": "ok",
     "timestamp": 1713347642949,
     "user": {
      "displayName": "Ritheesh Gururi",
      "userId": "06714265242114759156"
     },
     "user_tz": -330
    },
    "id": "DvcMdXZgHtIF"
   },
   "outputs": [],
   "source": [
    "#creating training and testing lists from the contents of the csv files\n",
    "train_file = open(\"/content/drive/MyDrive/NewData/mnist_train.csv\", 'r')\n",
    "train_list = train_file.readlines()\n",
    "train_file.close()\n",
    "\n",
    "test_file = open(\"/content/drive/MyDrive/NewData/mnist_test.csv\", 'r')\n",
    "test_list = test_file.readlines()\n",
    "test_file.close()"
   ]
  },
  {
   "cell_type": "code",
   "execution_count": null,
   "metadata": {
    "colab": {
     "base_uri": "https://localhost:8080/"
    },
    "executionInfo": {
     "elapsed": 7,
     "status": "ok",
     "timestamp": 1713311905692,
     "user": {
      "displayName": "Ritheesh Gururi",
      "userId": "06714265242114759156"
     },
     "user_tz": -330
    },
    "id": "DmRMKeemIFPi",
    "outputId": "0ea4f0bd-c93c-49c7-b9c9-d29cd0c36f54"
   },
   "outputs": [
    {
     "name": "stdout",
     "output_type": "stream",
     "text": [
      "Training images: 60000\n",
      "Test images: 10000\n"
     ]
    }
   ],
   "source": [
    "#shapes\n",
    "print(\"Training images:\", len(train_list))\n",
    "print(\"Test images:\", len(test_list))"
   ]
  },
  {
   "cell_type": "code",
   "execution_count": null,
   "metadata": {
    "colab": {
     "base_uri": "https://localhost:8080/",
     "height": 104
    },
    "executionInfo": {
     "elapsed": 6,
     "status": "ok",
     "timestamp": 1713311905693,
     "user": {
      "displayName": "Ritheesh Gururi",
      "userId": "06714265242114759156"
     },
     "user_tz": -330
    },
    "id": "uz8OtU3dIHTN",
    "outputId": "c759bbe9-a783-4b2b-c149-3e1c63b27738"
   },
   "outputs": [
    {
     "data": {
      "application/vnd.google.colaboratory.intrinsic+json": {
       "type": "string"
      },
      "text/plain": [
       "'0,0,0,0,0,0,0,0,0,0,0,0,0,0,0,0,0,0,0,0,0,0,0,0,0,0,0,0,0,0,0,0,0,0,0,0,0,0,0,0,0,0,0,0,0,0,0,0,0,0,0,0,0,0,0,0,0,0,0,0,0,0,0,0,0,0,0,0,0,0,0,0,0,0,0,0,0,0,0,0,0,0,0,0,0,0,0,0,0,0,0,0,0,0,0,0,0,0,0,0,0,0,0,0,0,0,0,0,0,0,0,0,0,0,0,0,0,0,0,0,0,0,0,0,0,0,0,0,51,159,253,159,50,0,0,0,0,0,0,0,0,0,0,0,0,0,0,0,0,0,0,0,0,0,0,48,238,252,252,252,237,0,0,0,0,0,0,0,0,0,0,0,0,0,0,0,0,0,0,0,0,0,54,227,253,252,239,233,252,57,6,0,0,0,0,0,0,0,0,0,0,0,0,0,0,0,0,0,10,60,224,252,253,252,202,84,252,253,122,0,0,0,0,0,0,0,0,0,0,0,0,0,0,0,0,0,163,252,252,252,253,252,252,96,189,253,167,0,0,0,0,0,0,0,0,0,0,0,0,0,0,0,0,51,238,253,253,190,114,253,228,47,79,255,168,0,0,0,0,0,0,0,0,0,0,0,0,0,0,0,48,238,252,252,179,12,75,121,21,0,0,253,243,50,0,0,0,0,0,0,0,0,0,0,0,0,0,38,165,253,233,208,84,0,0,0,0,0,0,253,252,165,0,0,0,0,0,0,0,0,0,0,0,0,7,178,252,240,71,19,28,0,0,0,0,0,0,253,252,195,0,0,0,0,0,0,0,0,0,0,0,0,57,252,252,63,0,0,0,0,0,0,0,0,0,253,252,195,0,0,0,0,0,0,0,0,0,0,0,0,198,253,190,0,0,0,0,0,0,0,0,0,0,255,253,196,0,0,0,0,0,0,0,0,0,0,0,76,246,252,112,0,0,0,0,0,0,0,0,0,0,253,252,148,0,0,0,0,0,0,0,0,0,0,0,85,252,230,25,0,0,0,0,0,0,0,0,7,135,253,186,12,0,0,0,0,0,0,0,0,0,0,0,85,252,223,0,0,0,0,0,0,0,0,7,131,252,225,71,0,0,0,0,0,0,0,0,0,0,0,0,85,252,145,0,0,0,0,0,0,0,48,165,252,173,0,0,0,0,0,0,0,0,0,0,0,0,0,0,86,253,225,0,0,0,0,0,0,114,238,253,162,0,0,0,0,0,0,0,0,0,0,0,0,0,0,0,85,252,249,146,48,29,85,178,225,253,223,167,56,0,0,0,0,0,0,0,0,0,0,0,0,0,0,0,85,252,252,252,229,215,252,252,252,196,130,0,0,0,0,0,0,0,0,0,0,0,0,0,0,0,0,0,28,199,252,252,253,252,252,233,145,0,0,0,0,0,0,0,0,0,0,0,0,0,0,0,0,0,0,0,0,25,128,252,253,252,141,37,0,0,0,0,0,0,0,0,0,0,0,0,0,0,0,0,0,0,0,0,0,0,0,0,0,0,0,0,0,0,0,0,0,0,0,0,0,0,0,0,0,0,0,0,0,0,0,0,0,0,0,0,0,0,0,0,0,0,0,0,0,0,0,0,0,0,0,0,0,0,0,0,0,0,0,0,0,0,0,0,0,0,0,0,0,0,0,0,0,0,0,0,0,0,0,0,0,0,0,0,0,0,0,0,0,0,0,0,0,0,0,0,0,0,0,0,0,0,0,0,0,0,0,0,0,0\\n'"
      ]
     },
     "execution_count": 260,
     "metadata": {},
     "output_type": "execute_result"
    }
   ],
   "source": [
    "# show a dataset record\n",
    "# the first number is the label, the rest are pixel colour values (greyscale 0-255)\n",
    "train_list[1]"
   ]
  },
  {
   "cell_type": "code",
   "execution_count": null,
   "metadata": {
    "colab": {
     "base_uri": "https://localhost:8080/",
     "height": 495
    },
    "executionInfo": {
     "elapsed": 1804,
     "status": "ok",
     "timestamp": 1713311907492,
     "user": {
      "displayName": "Ritheesh Gururi",
      "userId": "06714265242114759156"
     },
     "user_tz": -330
    },
    "id": "cElxNDXNRQrm",
    "outputId": "442f0aaf-40c8-45d6-f2d7-ca6593a334ec"
   },
   "outputs": [
    {
     "data": {
      "image/png": "[encoded data removed]",
      "text/plain": [
       "<Figure size 1200x600 with 10 Axes>"
      ]
     },
     "metadata": {},
     "output_type": "display_data"
    }
   ],
   "source": [
    "# Create a figure and axis for the subplot grid\n",
    "fig, axs = plt.subplots(2, 5, figsize=(12, 6))\n",
    "\n",
    "#plotting 10 images\n",
    "for i in range(10):\n",
    "    all_values = train_list[i].split(',')\n",
    "    image_array = np.asfarray(all_values[1:]).reshape((28, 28))\n",
    "    ax = axs[i // 5, i % 5]\n",
    "    ax.set_title(label = f'Label: {all_values[0]}')\n",
    "    ax.imshow(image_array, cmap='Greys', interpolation='None')\n",
    "plt.show()"
   ]
  },
  {
   "cell_type": "code",
   "execution_count": null,
   "metadata": {
    "id": "eBjtXZzwbP1b"
   },
   "outputs": [],
   "source": [
    "# scale input to range 0.01 to 1.00\n",
    "scaled_input_train = (np.asfarray(all_values[1:]) / 255.0 * 0.99) + 0.01"
   ]
  },
  {
   "cell_type": "code",
   "execution_count": null,
   "metadata": {
    "id": "rESPm8BnLCpA"
   },
   "outputs": [],
   "source": [
    "#creating training and testing lists from the contents of the csv files\n",
    "test_file = open(\"/content/drive/MyDrive/mnist_test.csv\", 'r')\n",
    "test_list = test_file.readlines()\n",
    "test_file.close()"
   ]
  },
  {
   "cell_type": "code",
   "execution_count": null,
   "metadata": {
    "colab": {
     "base_uri": "https://localhost:8080/",
     "height": 447
    },
    "executionInfo": {
     "elapsed": 19,
     "status": "ok",
     "timestamp": 1713311907493,
     "user": {
      "displayName": "Ritheesh Gururi",
      "userId": "06714265242114759156"
     },
     "user_tz": -330
    },
    "id": "L9ijWvk3LPlv",
    "outputId": "460898a2-46a8-4618-b588-cd813f2c2990"
   },
   "outputs": [
    {
     "data": {
      "text/plain": [
       "<matplotlib.image.AxesImage at 0x7dd7f2211ae0>"
      ]
     },
     "execution_count": 264,
     "metadata": {},
     "output_type": "execute_result"
    },
    {
     "data": {
      "image/png": "[encoded data removed]",
      "text/plain": [
       "<Figure size 640x480 with 1 Axes>"
      ]
     },
     "metadata": {},
     "output_type": "display_data"
    }
   ],
   "source": [
    "#reshaping and plotting an image\n",
    "all_values = test_list[1].split(',')\n",
    "image_array = np.asfarray(all_values[1:]).reshape((28,28))\n",
    "matplotlib.pyplot.imshow(image_array, cmap='Greys', interpolation='None')"
   ]
  },
  {
   "cell_type": "code",
   "execution_count": null,
   "metadata": {
    "id": "At8QjWKVLYgd"
   },
   "outputs": [],
   "source": [
    "# scale input to range 0.01 to 1.00\n",
    "scaled_input_test = (np.asfarray(all_values[1:]) / 255.0 * 0.99) + 0.01"
   ]
  },
  {
   "cell_type": "code",
   "execution_count": null,
   "metadata": {
    "id": "OZWZDGF4Lnlm"
   },
   "outputs": [],
   "source": [
    "#sigmoid activation funtion\n",
    "def sigmoid(x, derivative=False):\n",
    "    if derivative:\n",
    "        return (np.exp(-x)) / ((np.exp(-x) + 1) ** 2)\n",
    "    return 1 / (1 + np.exp(-x))\n",
    "\n",
    "\n",
    "#softmax activation function\n",
    "def softmax(x, derivative=False):\n",
    "    exps = np.exp(x - x.max())\n",
    "    if derivative:\n",
    "        return exps / np.sum(exps, axis=0) * (1 - exps / np.sum(exps, axis=0))\n",
    "    return exps / np.sum(exps, axis=0)"
   ]
  },
  {
   "cell_type": "code",
   "execution_count": null,
   "metadata": {
    "id": "h6ThKLxPNF3v"
   },
   "outputs": [],
   "source": [
    "#scaling and intializing weights\n",
    "def initialize_network(sizes, lr):\n",
    "    input_layer = sizes[0]\n",
    "    hidden_1 = sizes[1]\n",
    "    output_layer = sizes[2]\n",
    "\n",
    "    params = {\n",
    "        'W1': np.random.randn(hidden_1, input_layer) * np.sqrt(1. / hidden_1),\n",
    "        'W2': np.random.randn(output_layer, hidden_1) * np.sqrt(1. / output_layer)\n",
    "    }\n",
    "\n",
    "    return params"
   ]
  },
  {
   "cell_type": "code",
   "execution_count": null,
   "metadata": {
    "id": "YUoa5E2HLwgJ"
   },
   "outputs": [],
   "source": [
    "#forward propagation\n",
    "def forward_pass(params, x_train):\n",
    "\n",
    "    params['A0'] = x_train\n",
    "\n",
    "    # input layer to hidden layer 1\n",
    "    params['Z1'] = np.dot(params[\"W1\"], params['A0'])\n",
    "    params['A1'] = sigmoid(params['Z1'])\n",
    "\n",
    "    # hidden layer 2 to output layer\n",
    "    params['Z2'] = np.dot(params[\"W2\"], params['A1'])\n",
    "    params['A2'] = softmax(params['Z2'])\n",
    "\n",
    "    return params['A2']"
   ]
  },
  {
   "cell_type": "code",
   "execution_count": null,
   "metadata": {
    "id": "OnLEa7z6LzMT"
   },
   "outputs": [],
   "source": [
    "#backward propagation\n",
    "def backward_pass(params, y_train, output):\n",
    "    change_w = {}\n",
    "\n",
    "    #W3 update calculation\n",
    "    error = 2 * (output - y_train) / output.shape[0] * softmax(params['Z2'], derivative=True)\n",
    "    change_w['W2'] = np.outer(error, params['A1'])\n",
    "\n",
    "    #W1 update calculation\n",
    "    error = np.dot(params['W2'].T, error) * sigmoid(params['Z1'], derivative=True)\n",
    "    change_w['W1'] = np.outer(error, params['A0'])\n",
    "\n",
    "    return change_w"
   ]
  },
  {
   "cell_type": "code",
   "execution_count": null,
   "metadata": {
    "id": "I5i62dSyL2WC"
   },
   "outputs": [],
   "source": [
    "#gradient descent\n",
    "def update_network_parameters(params, changes_to_w, lr):\n",
    "    for key, value in changes_to_w.items():\n",
    "        params[key] -= lr * value"
   ]
  },
  {
   "cell_type": "code",
   "execution_count": null,
   "metadata": {
    "id": "IigvZWAoL54d"
   },
   "outputs": [],
   "source": [
    "#function for calculation accuracy\n",
    "def compute_accuracy(params, test_data, output_nodes):\n",
    "    predictions = []\n",
    "\n",
    "    for x in test_data:\n",
    "        all_values = x.split(',')\n",
    "        inputs = (np.asfarray(all_values[1:]) / 255.0 * 0.99) + 0.01\n",
    "        targets = np.zeros(output_nodes) + 0.01\n",
    "        targets[int(all_values[0])] = 0.99\n",
    "        output = forward_pass(params, inputs)\n",
    "        pred = np.argmax(output)\n",
    "        predictions.append(pred == np.argmax(targets))\n",
    "    return np.mean(predictions)"
   ]
  },
  {
   "cell_type": "code",
   "execution_count": null,
   "metadata": {
    "id": "cw_KqA_zMI-7"
   },
   "outputs": [],
   "source": [
    "#training the model\n",
    "def train_neural_network(train_list, test_list, sizes, epochs, lr, output_nodes):\n",
    "    params = initialize_network(sizes, lr)\n",
    "\n",
    "    start_time = time.time()\n",
    "\n",
    "    for iteration in range(epochs):\n",
    "        for x in train_list:\n",
    "            all_values = x.split(',')\n",
    "            inputs = (np.asfarray(all_values[1:]) / 255.0 * 0.99) + 0.01\n",
    "            targets = np.zeros(output_nodes) + 0.01\n",
    "            targets[int(all_values[0])] = 0.99\n",
    "            output = forward_pass(params, inputs)\n",
    "            changes_to_w = backward_pass(params, targets, output)\n",
    "            update_network_parameters(params, changes_to_w, lr)\n",
    "\n",
    "        accuracy = compute_accuracy(params, test_list, output_nodes)\n",
    "        print('Epoch: {0}, Time taken: {1:.2f}s, Accuracy: {2:.2f}%'.format(\n",
    "            iteration + 1, time.time() - start_time, accuracy * 100\n",
    "        ))"
   ]
  },
  {
   "cell_type": "code",
   "execution_count": null,
   "metadata": {
    "colab": {
     "base_uri": "https://localhost:8080/"
    },
    "executionInfo": {
     "elapsed": 231664,
     "status": "ok",
     "timestamp": 1713312730972,
     "user": {
      "displayName": "Ritheesh Gururi",
      "userId": "06714265242114759156"
     },
     "user_tz": -330
    },
    "id": "Xle_4KhDMm4M",
    "outputId": "73b756f9-25d9-48c9-9c03-0188ab75a8b1"
   },
   "outputs": [
    {
     "name": "stdout",
     "output_type": "stream",
     "text": [
      "Epoch: 1, Time taken: 82.25s, Accuracy: 78.24%\n",
      "Epoch: 2, Time taken: 164.74s, Accuracy: 80.22%\n",
      "Epoch: 3, Time taken: 241.38s, Accuracy: 81.11%\n",
      "Epoch: 4, Time taken: 322.31s, Accuracy: 89.33%\n",
      "Epoch: 5, Time taken: 400.69s, Accuracy: 90.12%\n",
      "Epoch: 6, Time taken: 481.18s, Accuracy: 90.58%\n",
      "Epoch: 7, Time taken: 559.16s, Accuracy: 90.85%\n",
      "Epoch: 8, Time taken: 635.37s, Accuracy: 91.22%\n",
      "Epoch: 9, Time taken: 711.43s, Accuracy: 91.53%\n",
      "Epoch: 10, Time taken: 784.82s, Accuracy: 91.68%\n"
     ]
    }
   ],
   "source": [
    "sizes = [784, 128, 10]  # Input, hidden, output layer sizes\n",
    "epochs = 10\n",
    "learning_rate = 0.01\n",
    "output_nodes = 10\n",
    "\n",
    "train_neural_network(train_list, test_list, sizes, epochs, learning_rate, output_nodes)"
   ]
  }
 ],
 "metadata": {
  "colab": {
   "authorship_tag": "ABX9TyM+rD+b6nzNF9rBlTlzLVGz",
   "provenance": []
  },
  "kernelspec": {
   "display_name": "Python 3",
   "name": "python3"
  },
  "language_info": {
   "name": "python"
  }
 },
 "nbformat": 4,
 "nbformat_minor": 0
}
